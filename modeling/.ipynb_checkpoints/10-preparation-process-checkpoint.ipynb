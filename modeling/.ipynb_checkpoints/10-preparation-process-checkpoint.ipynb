{
 "cells": [
  {
   "cell_type": "code",
   "execution_count": 2,
   "metadata": {},
   "outputs": [
    {
     "data": {
      "text/plain": [
       "'/Users/waittim/Documents/Python/Personal/mask-detector/modeling'"
      ]
     },
     "execution_count": 2,
     "metadata": {},
     "output_type": "execute_result"
    }
   ],
   "source": [
    "%pwd"
   ]
  },
  {
   "cell_type": "code",
   "execution_count": 3,
   "metadata": {},
   "outputs": [
    {
     "name": "stdout",
     "output_type": "stream",
     "text": [
      "Requirement already satisfied: Cython in /Users/waittim/anaconda3/lib/python3.7/site-packages (from -r requirements.txt (line 2)) (0.29.12)\n",
      "Requirement already satisfied: matplotlib>=3.2.2 in /Users/waittim/anaconda3/lib/python3.7/site-packages (from -r requirements.txt (line 3)) (3.3.2)\n",
      "Requirement already satisfied: numpy>=1.18.5 in /Users/waittim/anaconda3/lib/python3.7/site-packages (from -r requirements.txt (line 4)) (1.19.2)\n",
      "Requirement already satisfied: opencv-python>=4.1.2 in /Users/waittim/anaconda3/lib/python3.7/site-packages (from -r requirements.txt (line 5)) (4.4.0.44)\n",
      "Requirement already satisfied: pillow in /Users/waittim/anaconda3/lib/python3.7/site-packages (from -r requirements.txt (line 6)) (7.2.0)\n",
      "Collecting PyYAML>=5.3 (from -r requirements.txt (line 8))\n",
      "Requirement already satisfied: scipy>=1.4.1 in /Users/waittim/anaconda3/lib/python3.7/site-packages (from -r requirements.txt (line 9)) (1.4.1)\n",
      "Collecting tensorboard>=2.2 (from -r requirements.txt (line 10))\n",
      "  Using cached https://files.pythonhosted.org/packages/e9/1b/6a420d7e6ba431cf3d51b2a5bfa06a958c4141e3189385963dc7f6fbffb6/tensorboard-2.3.0-py3-none-any.whl\n",
      "Requirement already satisfied: torch>=1.6.0 in /Users/waittim/anaconda3/lib/python3.7/site-packages (from -r requirements.txt (line 11)) (1.6.0)\n",
      "Requirement already satisfied: torchvision>=0.7.0 in /Users/waittim/anaconda3/lib/python3.7/site-packages (from -r requirements.txt (line 12)) (0.7.0)\n",
      "Requirement already satisfied: tqdm>=4.41.0 in /Users/waittim/anaconda3/lib/python3.7/site-packages (from -r requirements.txt (line 13)) (4.46.0)\n",
      "Requirement already satisfied: pyparsing!=2.0.4,!=2.1.2,!=2.1.6,>=2.0.3 in /Users/waittim/anaconda3/lib/python3.7/site-packages (from matplotlib>=3.2.2->-r requirements.txt (line 3)) (2.4.0)\n",
      "Requirement already satisfied: kiwisolver>=1.0.1 in /Users/waittim/anaconda3/lib/python3.7/site-packages (from matplotlib>=3.2.2->-r requirements.txt (line 3)) (1.1.0)\n",
      "Requirement already satisfied: python-dateutil>=2.1 in /Users/waittim/anaconda3/lib/python3.7/site-packages (from matplotlib>=3.2.2->-r requirements.txt (line 3)) (2.8.0)\n",
      "Requirement already satisfied: cycler>=0.10 in /Users/waittim/anaconda3/lib/python3.7/site-packages (from matplotlib>=3.2.2->-r requirements.txt (line 3)) (0.10.0)\n",
      "Requirement already satisfied: certifi>=2020.06.20 in /Users/waittim/anaconda3/lib/python3.7/site-packages (from matplotlib>=3.2.2->-r requirements.txt (line 3)) (2020.6.20)\n",
      "Requirement already satisfied: markdown>=2.6.8 in /Users/waittim/anaconda3/lib/python3.7/site-packages (from tensorboard>=2.2->-r requirements.txt (line 10)) (3.1.1)\n",
      "Requirement already satisfied: google-auth<2,>=1.6.3 in /Users/waittim/anaconda3/lib/python3.7/site-packages (from tensorboard>=2.2->-r requirements.txt (line 10)) (1.11.0)\n",
      "Requirement already satisfied: grpcio>=1.24.3 in /Users/waittim/anaconda3/lib/python3.7/site-packages (from tensorboard>=2.2->-r requirements.txt (line 10)) (1.26.0)\n",
      "Requirement already satisfied: requests<3,>=2.21.0 in /Users/waittim/anaconda3/lib/python3.7/site-packages (from tensorboard>=2.2->-r requirements.txt (line 10)) (2.24.0)\n",
      "Requirement already satisfied: setuptools>=41.0.0 in /Users/waittim/anaconda3/lib/python3.7/site-packages (from tensorboard>=2.2->-r requirements.txt (line 10)) (41.0.1)\n",
      "Requirement already satisfied: google-auth-oauthlib<0.5,>=0.4.1 in /Users/waittim/anaconda3/lib/python3.7/site-packages (from tensorboard>=2.2->-r requirements.txt (line 10)) (0.4.1)\n",
      "Requirement already satisfied: protobuf>=3.6.0 in /Users/waittim/anaconda3/lib/python3.7/site-packages (from tensorboard>=2.2->-r requirements.txt (line 10)) (3.11.2)\n",
      "Requirement already satisfied: absl-py>=0.4 in /Users/waittim/anaconda3/lib/python3.7/site-packages (from tensorboard>=2.2->-r requirements.txt (line 10)) (0.9.0)\n",
      "Requirement already satisfied: six>=1.10.0 in /Users/waittim/anaconda3/lib/python3.7/site-packages (from tensorboard>=2.2->-r requirements.txt (line 10)) (1.12.0)\n",
      "Collecting tensorboard-plugin-wit>=1.6.0 (from tensorboard>=2.2->-r requirements.txt (line 10))\n",
      "  Using cached https://files.pythonhosted.org/packages/b6/85/5c5ac0a8c5efdfab916e9c6bc18963f6a6996a8a1e19ec4ad8c9ac9c623c/tensorboard_plugin_wit-1.7.0-py3-none-any.whl\n",
      "Requirement already satisfied: wheel>=0.26; python_version >= \"3\" in /Users/waittim/anaconda3/lib/python3.7/site-packages (from tensorboard>=2.2->-r requirements.txt (line 10)) (0.33.4)\n",
      "Requirement already satisfied: werkzeug>=0.11.15 in /Users/waittim/anaconda3/lib/python3.7/site-packages (from tensorboard>=2.2->-r requirements.txt (line 10)) (0.15.4)\n",
      "Requirement already satisfied: future in /Users/waittim/anaconda3/lib/python3.7/site-packages (from torch>=1.6.0->-r requirements.txt (line 11)) (0.17.1)\n",
      "Requirement already satisfied: rsa<4.1,>=3.1.4 in /Users/waittim/anaconda3/lib/python3.7/site-packages (from google-auth<2,>=1.6.3->tensorboard>=2.2->-r requirements.txt (line 10)) (4.0)\n",
      "Requirement already satisfied: cachetools<5.0,>=2.0.0 in /Users/waittim/anaconda3/lib/python3.7/site-packages (from google-auth<2,>=1.6.3->tensorboard>=2.2->-r requirements.txt (line 10)) (4.0.0)\n",
      "Requirement already satisfied: pyasn1-modules>=0.2.1 in /Users/waittim/anaconda3/lib/python3.7/site-packages (from google-auth<2,>=1.6.3->tensorboard>=2.2->-r requirements.txt (line 10)) (0.2.8)\n",
      "Requirement already satisfied: urllib3!=1.25.0,!=1.25.1,<1.26,>=1.21.1 in /Users/waittim/anaconda3/lib/python3.7/site-packages (from requests<3,>=2.21.0->tensorboard>=2.2->-r requirements.txt (line 10)) (1.25.9)\n",
      "Requirement already satisfied: chardet<4,>=3.0.2 in /Users/waittim/anaconda3/lib/python3.7/site-packages (from requests<3,>=2.21.0->tensorboard>=2.2->-r requirements.txt (line 10)) (3.0.4)\n",
      "Requirement already satisfied: idna<3,>=2.5 in /Users/waittim/anaconda3/lib/python3.7/site-packages (from requests<3,>=2.21.0->tensorboard>=2.2->-r requirements.txt (line 10)) (2.8)\n",
      "Requirement already satisfied: requests-oauthlib>=0.7.0 in /Users/waittim/anaconda3/lib/python3.7/site-packages (from google-auth-oauthlib<0.5,>=0.4.1->tensorboard>=2.2->-r requirements.txt (line 10)) (1.3.0)\n",
      "Requirement already satisfied: pyasn1>=0.1.3 in /Users/waittim/anaconda3/lib/python3.7/site-packages (from rsa<4.1,>=3.1.4->google-auth<2,>=1.6.3->tensorboard>=2.2->-r requirements.txt (line 10)) (0.4.8)\n",
      "Requirement already satisfied: oauthlib>=3.0.0 in /Users/waittim/anaconda3/lib/python3.7/site-packages (from requests-oauthlib>=0.7.0->google-auth-oauthlib<0.5,>=0.4.1->tensorboard>=2.2->-r requirements.txt (line 10)) (3.1.0)\n",
      "\u001b[31mERROR: tensorflow 2.1.0 has requirement tensorboard<2.2.0,>=2.1.0, but you'll have tensorboard 2.3.0 which is incompatible.\u001b[0m\n",
      "Installing collected packages: PyYAML, tensorboard-plugin-wit, tensorboard\n",
      "  Found existing installation: PyYAML 5.1.1\n",
      "\u001b[31mERROR: Cannot uninstall 'PyYAML'. It is a distutils installed project and thus we cannot accurately determine which files belong to it which would lead to only a partial uninstall.\u001b[0m\n",
      "Note: you may need to restart the kernel to use updated packages.\n"
     ]
    }
   ],
   "source": [
    "%pip install -r requirements.txt"
   ]
  },
  {
   "cell_type": "code",
   "execution_count": 4,
   "metadata": {},
   "outputs": [],
   "source": [
    "import os\n",
    "import sys\n",
    "import xml.etree.ElementTree as ET\n",
    "import glob\n",
    "from PIL import Image\n",
    "import random"
   ]
  },
  {
   "cell_type": "code",
   "execution_count": 5,
   "metadata": {},
   "outputs": [],
   "source": [
    "def xml_to_txt(indir, outdir, imagedir):\n",
    " \n",
    "    #os.chdir(indir)\n",
    "    annotations = os.listdir(indir+'/.')\n",
    "    #annotations = glob.glob(str(annotations)+'*.xml')\n",
    "    #print(annotations)\n",
    "    for i, file in enumerate(annotations):\n",
    "         \n",
    "        file_save = file.split('.')[0]+'.txt'\n",
    "        #print(file_save)\n",
    "        # file_txt=os.path.join(outdir,file_save)\n",
    "        file_txt = outdir+\"/\"+file_save\n",
    "        f_w = open(file_txt, 'w+')\n",
    " \n",
    "        # actual parsing\n",
    "        in_file = open(indir+'/'+file)\n",
    "        tree=ET.parse(in_file)\n",
    "        root = tree.getroot()\n",
    "        filename = root.find('filename').text  #Get filename from the root of xml\n",
    "        \n",
    "        # Get the image size\n",
    "        image = Image.open(imagedir+'/'+file.split('.')[0]+'.jpg')\n",
    "        image_width = image.width\n",
    "        image_height = image.height\n",
    "        \n",
    "        for obj in root.iter('object'):\n",
    "                current = list()\n",
    "                name = obj.find('name').text   #get the class name then transfer to number\n",
    "                if name == 'face':\n",
    "                    class_number = '0'\n",
    "                elif name == 'face_mask':\n",
    "                    class_number = '1'\n",
    "                else: \n",
    "                    class_number = '2' #wrong class\n",
    "                    print(file_save) # if return any wrong class, get correct it\n",
    " \n",
    "                xmlbox = obj.find('bndbox')\n",
    "                xmin = int(xmlbox.find('xmin').text)\n",
    "                xmax = int(xmlbox.find('xmax').text)\n",
    "                ymin = int(xmlbox.find('ymin').text)\n",
    "                ymax = int(xmlbox.find('ymax').text)\n",
    "                \n",
    "                x_center = str((xmin + xmax) / 2 / image_width)\n",
    "                y_center = str((ymin + ymax) / 2 / image_height)\n",
    "                width = str((xmax - xmin) / image_width)\n",
    "                height = str((ymax - ymin) / image_height)\n",
    "                \n",
    "                #print xn\n",
    "                f_w.write(class_number +' '+x_center+' '+y_center+' '+width+' '+height+'\\n')\n",
    " \n",
    " "
   ]
  },
  {
   "cell_type": "code",
   "execution_count": 6,
   "metadata": {},
   "outputs": [],
   "source": [
    "indir = './data/xml_labels'   #xml fold\n",
    "outdir = './data/labels'  #txt fold\n",
    "imagedir = './data/images'  # image fold"
   ]
  },
  {
   "cell_type": "code",
   "execution_count": 7,
   "metadata": {},
   "outputs": [],
   "source": [
    "xml_to_txt(indir,outdir,imagedir)"
   ]
  },
  {
   "cell_type": "code",
   "execution_count": null,
   "metadata": {},
   "outputs": [],
   "source": []
  },
  {
   "cell_type": "code",
   "execution_count": 8,
   "metadata": {},
   "outputs": [],
   "source": [
    "test_percentage = 0.2\n",
    "\n",
    "all_image = os.listdir(imagedir+'/.')\n",
    "\n",
    "test_index = list(random.sample(range(0,len(all_image)), round(len(all_image)*test_percentage)))\n",
    "train_index = [i for i in range(0,len(all_image)) if i not in test_index]\n",
    "\n",
    "test_data = [all_image[i] for i in test_index]\n",
    "train_data = [all_image[i] for i in train_index]"
   ]
  },
  {
   "cell_type": "code",
   "execution_count": null,
   "metadata": {},
   "outputs": [],
   "source": []
  },
  {
   "cell_type": "code",
   "execution_count": 12,
   "metadata": {},
   "outputs": [],
   "source": [
    "f_w = open('./data/train.txt', 'w+')\n",
    "for i in train_data:\n",
    "    f_w.write('./images/'+i+'\\n')\n",
    "f_w.close()\n",
    "\n",
    "f_w = open('./data/valid.txt', 'w+')\n",
    "for i in test_data:\n",
    "    f_w.write('./images/'+i+'\\n')\n",
    "f_w.close()"
   ]
  },
  {
   "cell_type": "code",
   "execution_count": null,
   "metadata": {},
   "outputs": [],
   "source": []
  },
  {
   "cell_type": "code",
   "execution_count": 13,
   "metadata": {},
   "outputs": [],
   "source": [
    "f_w = open('./data/face_mask.names.txt', 'w+')\n",
    "class_list = ['NoMask', 'Mask']\n",
    "for i in class_list:\n",
    "    f_w.write(i+'\\n')\n",
    "\n",
    "f_w.close()\n",
    "    \n",
    "os.rename('./data/face_mask.names.txt', './data/face_mask.names')"
   ]
  },
  {
   "cell_type": "code",
   "execution_count": null,
   "metadata": {},
   "outputs": [],
   "source": []
  },
  {
   "cell_type": "code",
   "execution_count": 11,
   "metadata": {},
   "outputs": [],
   "source": [
    "f_w = open('./data/face_mask.data.txt', 'w+')\n",
    "content = ['classes=2', \n",
    "           'train=data/train.txt', \n",
    "           'valid=data/valid.txt', \n",
    "           'names=data/face_mask.names']\n",
    "for i in content:\n",
    "    f_w.write(i+'\\n')\n",
    "\n",
    "f_w.close()\n",
    "    \n",
    "os.rename('./data/face_mask.data.txt', './data/face_mask.data')"
   ]
  },
  {
   "cell_type": "code",
   "execution_count": null,
   "metadata": {},
   "outputs": [],
   "source": []
  }
 ],
 "metadata": {
  "kernelspec": {
   "display_name": "Python 3",
   "language": "python",
   "name": "python3"
  },
  "varInspector": {
   "cols": {
    "lenName": 16,
    "lenType": 16,
    "lenVar": 40
   },
   "kernels_config": {
    "python": {
     "delete_cmd_postfix": "",
     "delete_cmd_prefix": "del ",
     "library": "var_list.py",
     "varRefreshCmd": "print(var_dic_list())"
    },
    "r": {
     "delete_cmd_postfix": ") ",
     "delete_cmd_prefix": "rm(",
     "library": "var_list.r",
     "varRefreshCmd": "cat(var_dic_list()) "
    }
   },
   "types_to_exclude": [
    "module",
    "function",
    "builtin_function_or_method",
    "instance",
    "_Feature"
   ],
   "window_display": false
  }
 },
 "nbformat": 4,
 "nbformat_minor": 2
}
